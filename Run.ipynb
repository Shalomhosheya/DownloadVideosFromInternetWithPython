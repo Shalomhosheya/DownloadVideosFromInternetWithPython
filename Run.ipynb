{
 "cells": [
  {
   "cell_type": "code",
   "execution_count": null,
   "metadata": {},
   "outputs": [
    {
     "name": "stdout",
     "output_type": "stream",
     "text": [
      "[youtube] Extracting URL: https://youtu.be/rxhKrtb3XsE?si=ric9ct5B6Hj7sf21\n",
      "[youtube] rxhKrtb3XsE: Downloading webpage\n",
      "[youtube] rxhKrtb3XsE: Downloading tv player API JSON\n",
      "[youtube] rxhKrtb3XsE: Downloading ios player API JSON\n",
      "[youtube] rxhKrtb3XsE: Downloading player 6e1dd460\n",
      "[youtube] rxhKrtb3XsE: Downloading m3u8 information\n"
     ]
    },
    {
     "name": "stderr",
     "output_type": "stream",
     "text": [
      "WARNING: ffmpeg not found. The downloaded format may not be the best available. Installing ffmpeg is strongly recommended: https://github.com/yt-dlp/yt-dlp#dependencies\n"
     ]
    },
    {
     "name": "stdout",
     "output_type": "stream",
     "text": [
      "[info] rxhKrtb3XsE: Downloading 1 format(s): 18\n",
      "[download] Destination: The Saddest Sibling Rivalry of All Time - Key & Peele.mp4\n",
      "[download] 100% of    7.03MiB in 00:00:06 at 1.13MiB/s   \n",
      "Video downloaded successfully!\n"
     ]
    }
   ],
   "source": [
    "import yt_dlp\n",
    "\n",
    "link = input(\"Enter YouTube link: \")\n",
    "ydl_opts = {'outtmpl': '%(title)s.%(ext)s'}\n",
    "with yt_dlp.YoutubeDL(ydl_opts) as ydl:\n",
    "    ydl.download([link])\n",
    "print(\"Video downloaded successfully!\")\n"
   ]
  }
 ],
 "metadata": {
  "kernelspec": {
   "display_name": "Python 3",
   "language": "python",
   "name": "python3"
  },
  "language_info": {
   "codemirror_mode": {
    "name": "ipython",
    "version": 3
   },
   "file_extension": ".py",
   "mimetype": "text/x-python",
   "name": "python",
   "nbconvert_exporter": "python",
   "pygments_lexer": "ipython3",
   "version": "3.13.0"
  }
 },
 "nbformat": 4,
 "nbformat_minor": 2
}
